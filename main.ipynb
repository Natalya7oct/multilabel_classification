{
  "nbformat": 4,
  "nbformat_minor": 0,
  "metadata": {
    "colab": {
      "provenance": []
    },
    "kernelspec": {
      "name": "python3",
      "display_name": "Python 3"
    },
    "language_info": {
      "name": "python"
    }
  },
  "cells": [
    {
      "cell_type": "code",
      "source": [
        "pip install gitpython"
      ],
      "metadata": {
        "colab": {
          "base_uri": "https://localhost:8080/"
        },
        "id": "xHqnL2_O8k6e",
        "outputId": "eef600fa-d97d-4cfe-955d-0f832aca6437"
      },
      "execution_count": 12,
      "outputs": [
        {
          "output_type": "stream",
          "name": "stdout",
          "text": [
            "Requirement already satisfied: gitpython in /usr/local/lib/python3.10/dist-packages (3.1.43)\n",
            "Requirement already satisfied: gitdb<5,>=4.0.1 in /usr/local/lib/python3.10/dist-packages (from gitpython) (4.0.11)\n",
            "Requirement already satisfied: smmap<6,>=3.0.1 in /usr/local/lib/python3.10/dist-packages (from gitdb<5,>=4.0.1->gitpython) (5.0.1)\n"
          ]
        }
      ]
    },
    {
      "cell_type": "code",
      "source": [
        "from git import Repo\n",
        "\n",
        "repo_url = 'https://github.com/Natalya7oct/multilabel_classification.git'\n",
        "\n",
        "clone_dir = 'mc'\n",
        "\n",
        "Repo.clone_from(repo_url, clone_dir)"
      ],
      "metadata": {
        "colab": {
          "base_uri": "https://localhost:8080/"
        },
        "id": "_keGUjom8UQL",
        "outputId": "0871f086-ab6c-4b0f-bdd6-5d38314b6814"
      },
      "execution_count": 24,
      "outputs": [
        {
          "output_type": "execute_result",
          "data": {
            "text/plain": [
              "<git.repo.base.Repo '/content/mc4/.git'>"
            ]
          },
          "metadata": {},
          "execution_count": 24
        }
      ]
    },
    {
      "cell_type": "code",
      "source": [
        "!pip install transformers jsonlines"
      ],
      "metadata": {
        "id": "UoxjRBF6yDJt"
      },
      "execution_count": null,
      "outputs": []
    },
    {
      "cell_type": "code",
      "source": [
        "import warnings\n",
        "\n",
        "warnings.filterwarnings('ignore')"
      ],
      "metadata": {
        "id": "3xqF9ctIyEbR"
      },
      "execution_count": 8,
      "outputs": []
    },
    {
      "cell_type": "code",
      "source": [
        "import json\n",
        "import jsonlines\n",
        "import numpy as np\n",
        "import os\n",
        "from PIL import Image\n",
        "Image.MAX_IMAGE_PIXELS = None\n",
        "import functools\n",
        "from collections import Counter\n",
        "from argparse import Namespace\n",
        "from transformers import BertTokenizer, BertModel\n",
        "from tqdm.notebook import tqdm\n",
        "import re\n",
        "import pandas as pd\n",
        "import torch\n",
        "import torchvision\n",
        "import torch.nn as nn\n",
        "import torch.optim as optim\n",
        "import torchvision.transforms as transforms\n",
        "from torch.utils.data import Dataset\n",
        "from torch.utils.data import DataLoader\n",
        "\n",
        "import shutil\n",
        "from sklearn.metrics import f1_score\n",
        "from sklearn.metrics import precision_recall_curve\n",
        "import matplotlib.pyplot as plt\n",
        "import requests"
      ],
      "metadata": {
        "id": "MdaPJ3B8yEh2"
      },
      "execution_count": 30,
      "outputs": []
    },
    {
      "cell_type": "code",
      "source": [
        "import mc.train_functions as tf\n",
        "import mc.get_datasets as gd"
      ],
      "metadata": {
        "id": "KzdfCTE4v_fB"
      },
      "execution_count": 25,
      "outputs": []
    },
    {
      "cell_type": "code",
      "source": [
        "image_encoders_dict = {\n",
        "    'resnet18': 512,\n",
        "    'resnet50': 2048,\n",
        "    'resnet152': 2048\n",
        "}"
      ],
      "metadata": {
        "id": "cMpJ9ZAi2zbC"
      },
      "execution_count": null,
      "outputs": []
    },
    {
      "cell_type": "code",
      "source": [
        "text_encoders_dict = {\n",
        "    'prajjwal1/bert-mini': 128,\n",
        "    'bert-base-uncased': 768,\n",
        "    'bert-large-uncased': 1024\n",
        "}"
      ],
      "metadata": {
        "id": "efZ1lPiU8UM7"
      },
      "execution_count": null,
      "outputs": []
    },
    {
      "cell_type": "code",
      "execution_count": 27,
      "metadata": {
        "id": "9xg-1J8Wnf-E"
      },
      "outputs": [],
      "source": [
        "args = Namespace()\n",
        "\n",
        "args.savedir_multimodal = os.path.join('model_save', 'multimodal')\n",
        "args.savedir_text = os.path.join('model_save', 'text')\n",
        "args.savedir_image = os.path.join('model_save', 'image')\n",
        "args.data_path_mmimdb= 'mmimdb'\n",
        "args.data_path_coco= 'coco'\n",
        "\n",
        "args.train_perc = 0.8\n",
        "args.val_perc = 0.1\n",
        "args.max_seq_len = 512\n",
        "args.batch_sz = 4\n",
        "args.n_workers = 2\n",
        "args.img_embed_pool_type = 'avg'\n",
        "args.num_image_embeds = 1\n",
        "args.lr = 1e-5\n",
        "args.lr_patience = 2\n",
        "args.lr_factor = 0.5\n",
        "args.max_epochs = 5\n",
        "args.gradient_accumulation_steps = 16\n",
        "args.patience = 10"
      ]
    },
    {
      "cell_type": "code",
      "source": [
        "os.makedirs(args.savedir_multimodal, exist_ok=True)\n",
        "os.makedirs(args.savedir_text, exist_ok=True)\n",
        "os.makedirs(args.savedir_image, exist_ok=True)\n",
        "os.makedirs(args.data_path_mmimdb, exist_ok=True)\n",
        "os.makedirs(f'{args.data_path_mmimdb}/dataset', exist_ok=True)\n",
        "os.makedirs(args.data_path_coco, exist_ok=True)\n",
        "os.makedirs(f'{args.data_path_coco}/dataset', exist_ok=True)"
      ],
      "metadata": {
        "id": "aaKIWENvzWfc"
      },
      "execution_count": 28,
      "outputs": []
    },
    {
      "cell_type": "code",
      "source": [
        "captions_url = 'https://drive.usercontent.google.com/u/0/uc?id=1x_Tr6C52Nt3Oq7ZBYsBnivwUrq-PhzaD&export=download'\n",
        "instances_url = 'https://drive.usercontent.google.com/u/0/uc?id=1_tW8EpxC1ffyjWy3hruZGJZXUlcxE-Me&export=download'\n",
        "\n",
        "'''\n",
        "captions_url = 'https://drive.usercontent.google.com/u/0/uc?id=1onVMlzXqYmgmf-xp6jcu1zm5RVBR6UKp&export=download'\n",
        "instances_url = 'https://drive.usercontent.google.com/u/0/uc?id=1p-AiOlPMIiE0mg7u6lLMjtpQTq1PWdtc&export=download'\n",
        "'''\n",
        "\n",
        "response = requests.get(captions_url)\n",
        "captions = response.json()\n",
        "\n",
        "response = requests.get(instances_url)\n",
        "instances = response.json()\n",
        "\n",
        "gd.write_formated_data_coco(args.data_path_coco, captions, instances)"
      ],
      "metadata": {
        "id": "wr5oK1PLt_Wl",
        "colab": {
          "base_uri": "https://localhost:8080/",
          "height": 297
        },
        "outputId": "cf2e9316-542b-42a2-8769-1e48667cbf0b"
      },
      "execution_count": 31,
      "outputs": [
        {
          "output_type": "error",
          "ename": "NameError",
          "evalue": "name 'pd' is not defined",
          "traceback": [
            "\u001b[0;31m---------------------------------------------------------------------------\u001b[0m",
            "\u001b[0;31mNameError\u001b[0m                                 Traceback (most recent call last)",
            "\u001b[0;32m<ipython-input-31-3919ce82a000>\u001b[0m in \u001b[0;36m<cell line: 15>\u001b[0;34m()\u001b[0m\n\u001b[1;32m     13\u001b[0m \u001b[0minstances\u001b[0m \u001b[0;34m=\u001b[0m \u001b[0mresponse\u001b[0m\u001b[0;34m.\u001b[0m\u001b[0mjson\u001b[0m\u001b[0;34m(\u001b[0m\u001b[0;34m)\u001b[0m\u001b[0;34m\u001b[0m\u001b[0;34m\u001b[0m\u001b[0m\n\u001b[1;32m     14\u001b[0m \u001b[0;34m\u001b[0m\u001b[0m\n\u001b[0;32m---> 15\u001b[0;31m \u001b[0mgd\u001b[0m\u001b[0;34m.\u001b[0m\u001b[0mwrite_formated_data_coco\u001b[0m\u001b[0;34m(\u001b[0m\u001b[0margs\u001b[0m\u001b[0;34m.\u001b[0m\u001b[0mdata_path_coco\u001b[0m\u001b[0;34m,\u001b[0m \u001b[0mcaptions\u001b[0m\u001b[0;34m,\u001b[0m \u001b[0minstances\u001b[0m\u001b[0;34m)\u001b[0m\u001b[0;34m\u001b[0m\u001b[0;34m\u001b[0m\u001b[0m\n\u001b[0m",
            "\u001b[0;32m/content/mc4/get_datasets.py\u001b[0m in \u001b[0;36mwrite_formated_data_coco\u001b[0;34m(data_path, captions, instances)\u001b[0m\n\u001b[1;32m     12\u001b[0m \u001b[0;32mdef\u001b[0m \u001b[0mwrite_formated_data_coco\u001b[0m\u001b[0;34m(\u001b[0m\u001b[0mdata_path\u001b[0m\u001b[0;34m,\u001b[0m \u001b[0mcaptions\u001b[0m\u001b[0;34m,\u001b[0m \u001b[0minstances\u001b[0m\u001b[0;34m)\u001b[0m\u001b[0;34m:\u001b[0m\u001b[0;34m\u001b[0m\u001b[0;34m\u001b[0m\u001b[0m\n\u001b[1;32m     13\u001b[0m \u001b[0;34m\u001b[0m\u001b[0m\n\u001b[0;32m---> 14\u001b[0;31m   \u001b[0mdata\u001b[0m \u001b[0;34m=\u001b[0m \u001b[0mpd\u001b[0m\u001b[0;34m.\u001b[0m\u001b[0mDataFrame\u001b[0m\u001b[0;34m(\u001b[0m\u001b[0mcaptions\u001b[0m\u001b[0;34m[\u001b[0m\u001b[0;34m'images'\u001b[0m\u001b[0;34m]\u001b[0m\u001b[0;34m)\u001b[0m\u001b[0;34m\u001b[0m\u001b[0;34m\u001b[0m\u001b[0m\n\u001b[0m\u001b[1;32m     15\u001b[0m   \u001b[0mcaptions\u001b[0m \u001b[0;34m=\u001b[0m \u001b[0mpd\u001b[0m\u001b[0;34m.\u001b[0m\u001b[0mDataFrame\u001b[0m\u001b[0;34m(\u001b[0m\u001b[0mcaptions\u001b[0m\u001b[0;34m[\u001b[0m\u001b[0;34m'annotations'\u001b[0m\u001b[0;34m]\u001b[0m\u001b[0;34m)\u001b[0m\u001b[0;34m\u001b[0m\u001b[0;34m\u001b[0m\u001b[0m\n\u001b[1;32m     16\u001b[0m   \u001b[0mcaptions\u001b[0m \u001b[0;34m=\u001b[0m \u001b[0mcaptions\u001b[0m\u001b[0;34m.\u001b[0m\u001b[0mgroupby\u001b[0m\u001b[0;34m(\u001b[0m\u001b[0;34m'image_id'\u001b[0m\u001b[0;34m)\u001b[0m\u001b[0;34m[\u001b[0m\u001b[0;34m'caption'\u001b[0m\u001b[0;34m]\u001b[0m\u001b[0;34m.\u001b[0m\u001b[0mapply\u001b[0m\u001b[0;34m(\u001b[0m\u001b[0mtuple\u001b[0m\u001b[0;34m)\u001b[0m\u001b[0;34m\u001b[0m\u001b[0;34m\u001b[0m\u001b[0m\n",
            "\u001b[0;31mNameError\u001b[0m: name 'pd' is not defined"
          ]
        }
      ]
    },
    {
      "cell_type": "code",
      "source": [
        "dataset_url = 'https://giohmg.am.files.1drv.com/y4mVMnd-_Cq2OqbN2YyYKBclz_PTvLBhmP1WICms-Dpmtj_gTCln0tbh-28SxECL1LE34uNcBRo2wu_7bLHaaBBqN1P990Nlw47RH-Loq8S2Sz8XpmPTWTuQfDJ0Gj5ZNUeDkq_cRLqTqHQCx51V-VHKJ1jHz1gDBFCCsB0xMgAPdRFJgRDR6CnjAyJjRighF7l_FnbcgHjAypnxwfsJomGYA'\n",
        "\n",
        "'''\n",
        "dataset_url = 'https://archive.org/download/mmimdb/mmimdb.tar.gz'\n",
        "'''\n",
        "\n",
        "response = requests.get(dataset_url)\n",
        "if response.status_code == 200:\n",
        "    with open('mmimdb.tar.gz', 'wb') as file:\n",
        "        file.write(response.content)\n",
        "\n",
        "!tar -zxf 'mmimdb.tar.gz'\n",
        "\n",
        "gd.write_formated_data_mmimdb(args.data_path_mmimdb)"
      ],
      "metadata": {
        "id": "7c302RYNuz9X"
      },
      "execution_count": null,
      "outputs": []
    },
    {
      "cell_type": "code",
      "source": [
        "args.bert_type = 'bert-large-uncased' # 'prajjwal1/bert-mini' / 'bert-base-uncased'\n",
        "args.text_hidden_sz = text_encoders_dict[args.bert_type]\n",
        "\n",
        "args.resnet_type = 'resnet18' # 'resnet50' / 'resnet152'\n",
        "args.img_hidden_sz = image_encoders_dict[args.resnet_type]\n",
        "\n",
        "args.linear_layer_dim = 100\n",
        "args.linear_layer_count = 0\n",
        "\n",
        "model_type, params_count, test_f1 = tf.main(args, args.data_path_mmimdb)"
      ],
      "metadata": {
        "id": "gbGX7mgTuEyL"
      },
      "execution_count": null,
      "outputs": []
    }
  ]
}