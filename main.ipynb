{
  "nbformat": 4,
  "nbformat_minor": 0,
  "metadata": {
    "colab": {
      "provenance": []
    },
    "kernelspec": {
      "name": "python3",
      "display_name": "Python 3"
    },
    "language_info": {
      "name": "python"
    },
    "widgets": {
      "application/vnd.jupyter.widget-state+json": {
        "c3b7d2f6798b487c90f57f19a78618a6": {
          "model_module": "@jupyter-widgets/controls",
          "model_name": "HBoxModel",
          "model_module_version": "1.5.0",
          "state": {
            "_dom_classes": [],
            "_model_module": "@jupyter-widgets/controls",
            "_model_module_version": "1.5.0",
            "_model_name": "HBoxModel",
            "_view_count": null,
            "_view_module": "@jupyter-widgets/controls",
            "_view_module_version": "1.5.0",
            "_view_name": "HBoxView",
            "box_style": "",
            "children": [
              "IPY_MODEL_a84c9acfbe4b4e7b867259f55ff09012",
              "IPY_MODEL_cff438bc96c74ba9a81771daa6eb8110",
              "IPY_MODEL_1a3524b6fcd94494aedfc5a8f86b6214"
            ],
            "layout": "IPY_MODEL_6ccbc55777de4a2d8b6a211991d9579f"
          }
        },
        "a84c9acfbe4b4e7b867259f55ff09012": {
          "model_module": "@jupyter-widgets/controls",
          "model_name": "HTMLModel",
          "model_module_version": "1.5.0",
          "state": {
            "_dom_classes": [],
            "_model_module": "@jupyter-widgets/controls",
            "_model_module_version": "1.5.0",
            "_model_name": "HTMLModel",
            "_view_count": null,
            "_view_module": "@jupyter-widgets/controls",
            "_view_module_version": "1.5.0",
            "_view_name": "HTMLView",
            "description": "",
            "description_tooltip": null,
            "layout": "IPY_MODEL_5a8c7a5435bf47e5982373fa090d450f",
            "placeholder": "​",
            "style": "IPY_MODEL_c03f81e75d2947fc91470693b3bea7e2",
            "value": "100%"
          }
        },
        "cff438bc96c74ba9a81771daa6eb8110": {
          "model_module": "@jupyter-widgets/controls",
          "model_name": "FloatProgressModel",
          "model_module_version": "1.5.0",
          "state": {
            "_dom_classes": [],
            "_model_module": "@jupyter-widgets/controls",
            "_model_module_version": "1.5.0",
            "_model_name": "FloatProgressModel",
            "_view_count": null,
            "_view_module": "@jupyter-widgets/controls",
            "_view_module_version": "1.5.0",
            "_view_name": "ProgressView",
            "bar_style": "success",
            "description": "",
            "description_tooltip": null,
            "layout": "IPY_MODEL_879d7d2edc1d49a89804df779987a227",
            "max": 100,
            "min": 0,
            "orientation": "horizontal",
            "style": "IPY_MODEL_8ab04a32ae2f47d5aab31afec62d7423",
            "value": 100
          }
        },
        "1a3524b6fcd94494aedfc5a8f86b6214": {
          "model_module": "@jupyter-widgets/controls",
          "model_name": "HTMLModel",
          "model_module_version": "1.5.0",
          "state": {
            "_dom_classes": [],
            "_model_module": "@jupyter-widgets/controls",
            "_model_module_version": "1.5.0",
            "_model_name": "HTMLModel",
            "_view_count": null,
            "_view_module": "@jupyter-widgets/controls",
            "_view_module_version": "1.5.0",
            "_view_name": "HTMLView",
            "description": "",
            "description_tooltip": null,
            "layout": "IPY_MODEL_dc0e82d4a7ef468ba274162b500170a0",
            "placeholder": "​",
            "style": "IPY_MODEL_c90263e329a04dac8d5ede6a575dbf0f",
            "value": " 100/100 [00:22&lt;00:00,  4.46it/s]"
          }
        },
        "6ccbc55777de4a2d8b6a211991d9579f": {
          "model_module": "@jupyter-widgets/base",
          "model_name": "LayoutModel",
          "model_module_version": "1.2.0",
          "state": {
            "_model_module": "@jupyter-widgets/base",
            "_model_module_version": "1.2.0",
            "_model_name": "LayoutModel",
            "_view_count": null,
            "_view_module": "@jupyter-widgets/base",
            "_view_module_version": "1.2.0",
            "_view_name": "LayoutView",
            "align_content": null,
            "align_items": null,
            "align_self": null,
            "border": null,
            "bottom": null,
            "display": null,
            "flex": null,
            "flex_flow": null,
            "grid_area": null,
            "grid_auto_columns": null,
            "grid_auto_flow": null,
            "grid_auto_rows": null,
            "grid_column": null,
            "grid_gap": null,
            "grid_row": null,
            "grid_template_areas": null,
            "grid_template_columns": null,
            "grid_template_rows": null,
            "height": null,
            "justify_content": null,
            "justify_items": null,
            "left": null,
            "margin": null,
            "max_height": null,
            "max_width": null,
            "min_height": null,
            "min_width": null,
            "object_fit": null,
            "object_position": null,
            "order": null,
            "overflow": null,
            "overflow_x": null,
            "overflow_y": null,
            "padding": null,
            "right": null,
            "top": null,
            "visibility": null,
            "width": null
          }
        },
        "5a8c7a5435bf47e5982373fa090d450f": {
          "model_module": "@jupyter-widgets/base",
          "model_name": "LayoutModel",
          "model_module_version": "1.2.0",
          "state": {
            "_model_module": "@jupyter-widgets/base",
            "_model_module_version": "1.2.0",
            "_model_name": "LayoutModel",
            "_view_count": null,
            "_view_module": "@jupyter-widgets/base",
            "_view_module_version": "1.2.0",
            "_view_name": "LayoutView",
            "align_content": null,
            "align_items": null,
            "align_self": null,
            "border": null,
            "bottom": null,
            "display": null,
            "flex": null,
            "flex_flow": null,
            "grid_area": null,
            "grid_auto_columns": null,
            "grid_auto_flow": null,
            "grid_auto_rows": null,
            "grid_column": null,
            "grid_gap": null,
            "grid_row": null,
            "grid_template_areas": null,
            "grid_template_columns": null,
            "grid_template_rows": null,
            "height": null,
            "justify_content": null,
            "justify_items": null,
            "left": null,
            "margin": null,
            "max_height": null,
            "max_width": null,
            "min_height": null,
            "min_width": null,
            "object_fit": null,
            "object_position": null,
            "order": null,
            "overflow": null,
            "overflow_x": null,
            "overflow_y": null,
            "padding": null,
            "right": null,
            "top": null,
            "visibility": null,
            "width": null
          }
        },
        "c03f81e75d2947fc91470693b3bea7e2": {
          "model_module": "@jupyter-widgets/controls",
          "model_name": "DescriptionStyleModel",
          "model_module_version": "1.5.0",
          "state": {
            "_model_module": "@jupyter-widgets/controls",
            "_model_module_version": "1.5.0",
            "_model_name": "DescriptionStyleModel",
            "_view_count": null,
            "_view_module": "@jupyter-widgets/base",
            "_view_module_version": "1.2.0",
            "_view_name": "StyleView",
            "description_width": ""
          }
        },
        "879d7d2edc1d49a89804df779987a227": {
          "model_module": "@jupyter-widgets/base",
          "model_name": "LayoutModel",
          "model_module_version": "1.2.0",
          "state": {
            "_model_module": "@jupyter-widgets/base",
            "_model_module_version": "1.2.0",
            "_model_name": "LayoutModel",
            "_view_count": null,
            "_view_module": "@jupyter-widgets/base",
            "_view_module_version": "1.2.0",
            "_view_name": "LayoutView",
            "align_content": null,
            "align_items": null,
            "align_self": null,
            "border": null,
            "bottom": null,
            "display": null,
            "flex": null,
            "flex_flow": null,
            "grid_area": null,
            "grid_auto_columns": null,
            "grid_auto_flow": null,
            "grid_auto_rows": null,
            "grid_column": null,
            "grid_gap": null,
            "grid_row": null,
            "grid_template_areas": null,
            "grid_template_columns": null,
            "grid_template_rows": null,
            "height": null,
            "justify_content": null,
            "justify_items": null,
            "left": null,
            "margin": null,
            "max_height": null,
            "max_width": null,
            "min_height": null,
            "min_width": null,
            "object_fit": null,
            "object_position": null,
            "order": null,
            "overflow": null,
            "overflow_x": null,
            "overflow_y": null,
            "padding": null,
            "right": null,
            "top": null,
            "visibility": null,
            "width": null
          }
        },
        "8ab04a32ae2f47d5aab31afec62d7423": {
          "model_module": "@jupyter-widgets/controls",
          "model_name": "ProgressStyleModel",
          "model_module_version": "1.5.0",
          "state": {
            "_model_module": "@jupyter-widgets/controls",
            "_model_module_version": "1.5.0",
            "_model_name": "ProgressStyleModel",
            "_view_count": null,
            "_view_module": "@jupyter-widgets/base",
            "_view_module_version": "1.2.0",
            "_view_name": "StyleView",
            "bar_color": null,
            "description_width": ""
          }
        },
        "dc0e82d4a7ef468ba274162b500170a0": {
          "model_module": "@jupyter-widgets/base",
          "model_name": "LayoutModel",
          "model_module_version": "1.2.0",
          "state": {
            "_model_module": "@jupyter-widgets/base",
            "_model_module_version": "1.2.0",
            "_model_name": "LayoutModel",
            "_view_count": null,
            "_view_module": "@jupyter-widgets/base",
            "_view_module_version": "1.2.0",
            "_view_name": "LayoutView",
            "align_content": null,
            "align_items": null,
            "align_self": null,
            "border": null,
            "bottom": null,
            "display": null,
            "flex": null,
            "flex_flow": null,
            "grid_area": null,
            "grid_auto_columns": null,
            "grid_auto_flow": null,
            "grid_auto_rows": null,
            "grid_column": null,
            "grid_gap": null,
            "grid_row": null,
            "grid_template_areas": null,
            "grid_template_columns": null,
            "grid_template_rows": null,
            "height": null,
            "justify_content": null,
            "justify_items": null,
            "left": null,
            "margin": null,
            "max_height": null,
            "max_width": null,
            "min_height": null,
            "min_width": null,
            "object_fit": null,
            "object_position": null,
            "order": null,
            "overflow": null,
            "overflow_x": null,
            "overflow_y": null,
            "padding": null,
            "right": null,
            "top": null,
            "visibility": null,
            "width": null
          }
        },
        "c90263e329a04dac8d5ede6a575dbf0f": {
          "model_module": "@jupyter-widgets/controls",
          "model_name": "DescriptionStyleModel",
          "model_module_version": "1.5.0",
          "state": {
            "_model_module": "@jupyter-widgets/controls",
            "_model_module_version": "1.5.0",
            "_model_name": "DescriptionStyleModel",
            "_view_count": null,
            "_view_module": "@jupyter-widgets/base",
            "_view_module_version": "1.2.0",
            "_view_name": "StyleView",
            "description_width": ""
          }
        }
      }
    }
  },
  "cells": [
    {
      "cell_type": "code",
      "source": [
        "!pip install transformers jsonlines"
      ],
      "metadata": {
        "id": "UoxjRBF6yDJt"
      },
      "execution_count": null,
      "outputs": []
    },
    {
      "cell_type": "code",
      "source": [
        "import warnings\n",
        "\n",
        "warnings.filterwarnings('ignore')"
      ],
      "metadata": {
        "id": "3xqF9ctIyEbR"
      },
      "execution_count": 2,
      "outputs": []
    },
    {
      "cell_type": "code",
      "source": [
        "import json\n",
        "import jsonlines\n",
        "import numpy as np\n",
        "import os\n",
        "from PIL import Image\n",
        "Image.MAX_IMAGE_PIXELS = None\n",
        "import functools\n",
        "from collections import Counter\n",
        "from argparse import Namespace\n",
        "from transformers import BertTokenizer, BertModel\n",
        "from tqdm.notebook import tqdm\n",
        "import re\n",
        "import pandas as pd\n",
        "import torch\n",
        "import torchvision\n",
        "import torch.nn as nn\n",
        "import torch.optim as optim\n",
        "import torchvision.transforms as transforms\n",
        "from torch.utils.data import Dataset\n",
        "from torch.utils.data import DataLoader\n",
        "\n",
        "import shutil\n",
        "from sklearn.metrics import f1_score\n",
        "from sklearn.metrics import precision_recall_curve\n",
        "import matplotlib.pyplot as plt\n",
        "import requests"
      ],
      "metadata": {
        "id": "MdaPJ3B8yEh2"
      },
      "execution_count": 3,
      "outputs": []
    },
    {
      "cell_type": "code",
      "source": [
        "import train_functions as tf\n",
        "import get_datasets as gd"
      ],
      "metadata": {
        "id": "KzdfCTE4v_fB"
      },
      "execution_count": null,
      "outputs": []
    },
    {
      "cell_type": "code",
      "source": [
        "image_encoders_dict = {\n",
        "    'resnet18': 512,\n",
        "    'resnet50': 2048,\n",
        "    'resnet152': 2048\n",
        "}"
      ],
      "metadata": {
        "id": "cMpJ9ZAi2zbC"
      },
      "execution_count": 10,
      "outputs": []
    },
    {
      "cell_type": "code",
      "source": [
        "text_encoders_dict = {\n",
        "    'prajjwal1/bert-mini': 128,\n",
        "    'bert-base-uncased': 768,\n",
        "    'bert-large-uncased': 1024\n",
        "}"
      ],
      "metadata": {
        "id": "efZ1lPiU8UM7"
      },
      "execution_count": 11,
      "outputs": []
    },
    {
      "cell_type": "code",
      "execution_count": 34,
      "metadata": {
        "id": "9xg-1J8Wnf-E"
      },
      "outputs": [],
      "source": [
        "args = Namespace()\n",
        "\n",
        "args.savedir_multimodal = os.path.join('model_save', 'multimodal')\n",
        "args.savedir_text = os.path.join('model_save', 'text')\n",
        "args.savedir_image = os.path.join('model_save', 'image')\n",
        "args.data_path_mmimdb= 'mmimdb'\n",
        "args.data_path_coco= 'coco'\n",
        "\n",
        "args.train_perc = 0.8\n",
        "args.val_perc = 0.1\n",
        "args.max_seq_len = 512\n",
        "args.batch_sz = 4\n",
        "args.n_workers = 2\n",
        "args.img_embed_pool_type = 'avg'\n",
        "args.num_image_embeds = 1\n",
        "args.lr = 1e-5\n",
        "args.lr_patience = 2\n",
        "args.lr_factor = 0.5\n",
        "args.max_epochs = 5\n",
        "args.gradient_accumulation_steps = 16\n",
        "args.patience = 10"
      ]
    },
    {
      "cell_type": "code",
      "source": [
        "os.makedirs(args.savedir_multimodal, exist_ok=True)\n",
        "os.makedirs(args.savedir_text, exist_ok=True)\n",
        "os.makedirs(args.savedir_image, exist_ok=True)\n",
        "os.makedirs(args.data_path_mmimdb, exist_ok=True)\n",
        "os.makedirs(f'{args.data_path_mmimdb}/dataset', exist_ok=True)\n",
        "os.makedirs(args.data_path_coco, exist_ok=True)\n",
        "os.makedirs(f'{args.data_path_coco}/dataset', exist_ok=True)"
      ],
      "metadata": {
        "id": "aaKIWENvzWfc"
      },
      "execution_count": 13,
      "outputs": []
    },
    {
      "cell_type": "code",
      "source": [
        "captions_url = 'https://drive.usercontent.google.com/u/0/uc?id=1x_Tr6C52Nt3Oq7ZBYsBnivwUrq-PhzaD&export=download'\n",
        "instances_url = 'https://drive.usercontent.google.com/u/0/uc?id=1_tW8EpxC1ffyjWy3hruZGJZXUlcxE-Me&export=download'\n",
        "\n",
        "'''\n",
        "captions_url = 'https://drive.usercontent.google.com/u/0/uc?id=1onVMlzXqYmgmf-xp6jcu1zm5RVBR6UKp&export=download'\n",
        "instances_url = 'https://drive.usercontent.google.com/u/0/uc?id=1p-AiOlPMIiE0mg7u6lLMjtpQTq1PWdtc&export=download'\n",
        "'''\n",
        "\n",
        "gd.write_formated_data_coco(args.data_path_coco, captions_url, instances_url)"
      ],
      "metadata": {
        "id": "wr5oK1PLt_Wl",
        "colab": {
          "base_uri": "https://localhost:8080/",
          "height": 49,
          "referenced_widgets": [
            "c3b7d2f6798b487c90f57f19a78618a6",
            "a84c9acfbe4b4e7b867259f55ff09012",
            "cff438bc96c74ba9a81771daa6eb8110",
            "1a3524b6fcd94494aedfc5a8f86b6214",
            "6ccbc55777de4a2d8b6a211991d9579f",
            "5a8c7a5435bf47e5982373fa090d450f",
            "c03f81e75d2947fc91470693b3bea7e2",
            "879d7d2edc1d49a89804df779987a227",
            "8ab04a32ae2f47d5aab31afec62d7423",
            "dc0e82d4a7ef468ba274162b500170a0",
            "c90263e329a04dac8d5ede6a575dbf0f"
          ]
        },
        "outputId": "33430ec9-7e2a-4f5b-c908-a8602b40b8f4"
      },
      "execution_count": 21,
      "outputs": [
        {
          "output_type": "display_data",
          "data": {
            "text/plain": [
              "  0%|          | 0/100 [00:00<?, ?it/s]"
            ],
            "application/vnd.jupyter.widget-view+json": {
              "version_major": 2,
              "version_minor": 0,
              "model_id": "c3b7d2f6798b487c90f57f19a78618a6"
            }
          },
          "metadata": {}
        }
      ]
    },
    {
      "cell_type": "code",
      "source": [
        "dataset_url = 'https://giohmg.am.files.1drv.com/y4mVMnd-_Cq2OqbN2YyYKBclz_PTvLBhmP1WICms-Dpmtj_gTCln0tbh-28SxECL1LE34uNcBRo2wu_7bLHaaBBqN1P990Nlw47RH-Loq8S2Sz8XpmPTWTuQfDJ0Gj5ZNUeDkq_cRLqTqHQCx51V-VHKJ1jHz1gDBFCCsB0xMgAPdRFJgRDR6CnjAyJjRighF7l_FnbcgHjAypnxwfsJomGYA'\n",
        "file_name = 'mmimdb_3000.tar.gz'\n",
        "\n",
        "'''\n",
        "dataset_url = 'https://archive.org/download/mmimdb/mmimdb.tar.gz'\n",
        "file_name = 'mmimdb.tar.gz'\n",
        "'''\n",
        "\n",
        "\n",
        "gd.write_formated_data_mmimdb(args.data_path_mmimdb, dataset_url, file_name)"
      ],
      "metadata": {
        "id": "7c302RYNuz9X"
      },
      "execution_count": 15,
      "outputs": []
    },
    {
      "cell_type": "code",
      "source": [
        "args.bert_type = 'bert-large-uncased' # 'prajjwal1/bert-mini' / 'bert-base-uncased'\n",
        "args.text_hidden_sz = text_encoders_dict[args.bert_type]\n",
        "\n",
        "args.resnet_type = 'resnet18' # 'resnet50' / 'resnet152'\n",
        "args.img_hidden_sz = image_encoders_dict[args.resnet_type]\n",
        "\n",
        "args.linear_layer_dim = 100\n",
        "args.linear_layer_count = 0\n",
        "\n",
        "model_type, params_count, test_f1 = tf.main(args, args.data_path_mmimdb)"
      ],
      "metadata": {
        "id": "gbGX7mgTuEyL"
      },
      "execution_count": null,
      "outputs": []
    }
  ]
}