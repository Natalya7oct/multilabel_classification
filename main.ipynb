{
  "nbformat": 4,
  "nbformat_minor": 0,
  "metadata": {
    "colab": {
      "provenance": [],
      "gpuType": "T4"
    },
    "kernelspec": {
      "name": "python3",
      "display_name": "Python 3"
    },
    "language_info": {
      "name": "python"
    },
    "accelerator": "GPU",
    "widgets": {
      "application/vnd.jupyter.widget-state+json": {
        "005e7b52f793438595c6f18b030d7840": {
          "model_module": "@jupyter-widgets/controls",
          "model_name": "HBoxModel",
          "model_module_version": "1.5.0",
          "state": {
            "_dom_classes": [],
            "_model_module": "@jupyter-widgets/controls",
            "_model_module_version": "1.5.0",
            "_model_name": "HBoxModel",
            "_view_count": null,
            "_view_module": "@jupyter-widgets/controls",
            "_view_module_version": "1.5.0",
            "_view_name": "HBoxView",
            "box_style": "",
            "children": [
              "IPY_MODEL_7b5064b5933e42ac8a0f856ef331d37a",
              "IPY_MODEL_a47c224d53534777855b89dca699cf91",
              "IPY_MODEL_27bf79a576684976b16bc86573877148"
            ],
            "layout": "IPY_MODEL_f72bb2ea2e9d40ae91d37f205e73e546"
          }
        },
        "7b5064b5933e42ac8a0f856ef331d37a": {
          "model_module": "@jupyter-widgets/controls",
          "model_name": "HTMLModel",
          "model_module_version": "1.5.0",
          "state": {
            "_dom_classes": [],
            "_model_module": "@jupyter-widgets/controls",
            "_model_module_version": "1.5.0",
            "_model_name": "HTMLModel",
            "_view_count": null,
            "_view_module": "@jupyter-widgets/controls",
            "_view_module_version": "1.5.0",
            "_view_name": "HTMLView",
            "description": "",
            "description_tooltip": null,
            "layout": "IPY_MODEL_d4e98cc724454c06b8e1f3249d17d679",
            "placeholder": "​",
            "style": "IPY_MODEL_342de8078b9442a794bb5e43c994fd78",
            "value": "100%"
          }
        },
        "a47c224d53534777855b89dca699cf91": {
          "model_module": "@jupyter-widgets/controls",
          "model_name": "FloatProgressModel",
          "model_module_version": "1.5.0",
          "state": {
            "_dom_classes": [],
            "_model_module": "@jupyter-widgets/controls",
            "_model_module_version": "1.5.0",
            "_model_name": "FloatProgressModel",
            "_view_count": null,
            "_view_module": "@jupyter-widgets/controls",
            "_view_module_version": "1.5.0",
            "_view_name": "ProgressView",
            "bar_style": "success",
            "description": "",
            "description_tooltip": null,
            "layout": "IPY_MODEL_2417e876b7b745f3aaed837a6f528811",
            "max": 100,
            "min": 0,
            "orientation": "horizontal",
            "style": "IPY_MODEL_3d10976a58bd43d4b0d0845efcce1034",
            "value": 100
          }
        },
        "27bf79a576684976b16bc86573877148": {
          "model_module": "@jupyter-widgets/controls",
          "model_name": "HTMLModel",
          "model_module_version": "1.5.0",
          "state": {
            "_dom_classes": [],
            "_model_module": "@jupyter-widgets/controls",
            "_model_module_version": "1.5.0",
            "_model_name": "HTMLModel",
            "_view_count": null,
            "_view_module": "@jupyter-widgets/controls",
            "_view_module_version": "1.5.0",
            "_view_name": "HTMLView",
            "description": "",
            "description_tooltip": null,
            "layout": "IPY_MODEL_3d8acb4b00564226b3deb7ece65227b8",
            "placeholder": "​",
            "style": "IPY_MODEL_3a520538a7324b5dac448fc31f519436",
            "value": " 100/100 [01:44&lt;00:00,  1.11s/it]"
          }
        },
        "f72bb2ea2e9d40ae91d37f205e73e546": {
          "model_module": "@jupyter-widgets/base",
          "model_name": "LayoutModel",
          "model_module_version": "1.2.0",
          "state": {
            "_model_module": "@jupyter-widgets/base",
            "_model_module_version": "1.2.0",
            "_model_name": "LayoutModel",
            "_view_count": null,
            "_view_module": "@jupyter-widgets/base",
            "_view_module_version": "1.2.0",
            "_view_name": "LayoutView",
            "align_content": null,
            "align_items": null,
            "align_self": null,
            "border": null,
            "bottom": null,
            "display": null,
            "flex": null,
            "flex_flow": null,
            "grid_area": null,
            "grid_auto_columns": null,
            "grid_auto_flow": null,
            "grid_auto_rows": null,
            "grid_column": null,
            "grid_gap": null,
            "grid_row": null,
            "grid_template_areas": null,
            "grid_template_columns": null,
            "grid_template_rows": null,
            "height": null,
            "justify_content": null,
            "justify_items": null,
            "left": null,
            "margin": null,
            "max_height": null,
            "max_width": null,
            "min_height": null,
            "min_width": null,
            "object_fit": null,
            "object_position": null,
            "order": null,
            "overflow": null,
            "overflow_x": null,
            "overflow_y": null,
            "padding": null,
            "right": null,
            "top": null,
            "visibility": null,
            "width": null
          }
        },
        "d4e98cc724454c06b8e1f3249d17d679": {
          "model_module": "@jupyter-widgets/base",
          "model_name": "LayoutModel",
          "model_module_version": "1.2.0",
          "state": {
            "_model_module": "@jupyter-widgets/base",
            "_model_module_version": "1.2.0",
            "_model_name": "LayoutModel",
            "_view_count": null,
            "_view_module": "@jupyter-widgets/base",
            "_view_module_version": "1.2.0",
            "_view_name": "LayoutView",
            "align_content": null,
            "align_items": null,
            "align_self": null,
            "border": null,
            "bottom": null,
            "display": null,
            "flex": null,
            "flex_flow": null,
            "grid_area": null,
            "grid_auto_columns": null,
            "grid_auto_flow": null,
            "grid_auto_rows": null,
            "grid_column": null,
            "grid_gap": null,
            "grid_row": null,
            "grid_template_areas": null,
            "grid_template_columns": null,
            "grid_template_rows": null,
            "height": null,
            "justify_content": null,
            "justify_items": null,
            "left": null,
            "margin": null,
            "max_height": null,
            "max_width": null,
            "min_height": null,
            "min_width": null,
            "object_fit": null,
            "object_position": null,
            "order": null,
            "overflow": null,
            "overflow_x": null,
            "overflow_y": null,
            "padding": null,
            "right": null,
            "top": null,
            "visibility": null,
            "width": null
          }
        },
        "342de8078b9442a794bb5e43c994fd78": {
          "model_module": "@jupyter-widgets/controls",
          "model_name": "DescriptionStyleModel",
          "model_module_version": "1.5.0",
          "state": {
            "_model_module": "@jupyter-widgets/controls",
            "_model_module_version": "1.5.0",
            "_model_name": "DescriptionStyleModel",
            "_view_count": null,
            "_view_module": "@jupyter-widgets/base",
            "_view_module_version": "1.2.0",
            "_view_name": "StyleView",
            "description_width": ""
          }
        },
        "2417e876b7b745f3aaed837a6f528811": {
          "model_module": "@jupyter-widgets/base",
          "model_name": "LayoutModel",
          "model_module_version": "1.2.0",
          "state": {
            "_model_module": "@jupyter-widgets/base",
            "_model_module_version": "1.2.0",
            "_model_name": "LayoutModel",
            "_view_count": null,
            "_view_module": "@jupyter-widgets/base",
            "_view_module_version": "1.2.0",
            "_view_name": "LayoutView",
            "align_content": null,
            "align_items": null,
            "align_self": null,
            "border": null,
            "bottom": null,
            "display": null,
            "flex": null,
            "flex_flow": null,
            "grid_area": null,
            "grid_auto_columns": null,
            "grid_auto_flow": null,
            "grid_auto_rows": null,
            "grid_column": null,
            "grid_gap": null,
            "grid_row": null,
            "grid_template_areas": null,
            "grid_template_columns": null,
            "grid_template_rows": null,
            "height": null,
            "justify_content": null,
            "justify_items": null,
            "left": null,
            "margin": null,
            "max_height": null,
            "max_width": null,
            "min_height": null,
            "min_width": null,
            "object_fit": null,
            "object_position": null,
            "order": null,
            "overflow": null,
            "overflow_x": null,
            "overflow_y": null,
            "padding": null,
            "right": null,
            "top": null,
            "visibility": null,
            "width": null
          }
        },
        "3d10976a58bd43d4b0d0845efcce1034": {
          "model_module": "@jupyter-widgets/controls",
          "model_name": "ProgressStyleModel",
          "model_module_version": "1.5.0",
          "state": {
            "_model_module": "@jupyter-widgets/controls",
            "_model_module_version": "1.5.0",
            "_model_name": "ProgressStyleModel",
            "_view_count": null,
            "_view_module": "@jupyter-widgets/base",
            "_view_module_version": "1.2.0",
            "_view_name": "StyleView",
            "bar_color": null,
            "description_width": ""
          }
        },
        "3d8acb4b00564226b3deb7ece65227b8": {
          "model_module": "@jupyter-widgets/base",
          "model_name": "LayoutModel",
          "model_module_version": "1.2.0",
          "state": {
            "_model_module": "@jupyter-widgets/base",
            "_model_module_version": "1.2.0",
            "_model_name": "LayoutModel",
            "_view_count": null,
            "_view_module": "@jupyter-widgets/base",
            "_view_module_version": "1.2.0",
            "_view_name": "LayoutView",
            "align_content": null,
            "align_items": null,
            "align_self": null,
            "border": null,
            "bottom": null,
            "display": null,
            "flex": null,
            "flex_flow": null,
            "grid_area": null,
            "grid_auto_columns": null,
            "grid_auto_flow": null,
            "grid_auto_rows": null,
            "grid_column": null,
            "grid_gap": null,
            "grid_row": null,
            "grid_template_areas": null,
            "grid_template_columns": null,
            "grid_template_rows": null,
            "height": null,
            "justify_content": null,
            "justify_items": null,
            "left": null,
            "margin": null,
            "max_height": null,
            "max_width": null,
            "min_height": null,
            "min_width": null,
            "object_fit": null,
            "object_position": null,
            "order": null,
            "overflow": null,
            "overflow_x": null,
            "overflow_y": null,
            "padding": null,
            "right": null,
            "top": null,
            "visibility": null,
            "width": null
          }
        },
        "3a520538a7324b5dac448fc31f519436": {
          "model_module": "@jupyter-widgets/controls",
          "model_name": "DescriptionStyleModel",
          "model_module_version": "1.5.0",
          "state": {
            "_model_module": "@jupyter-widgets/controls",
            "_model_module_version": "1.5.0",
            "_model_name": "DescriptionStyleModel",
            "_view_count": null,
            "_view_module": "@jupyter-widgets/base",
            "_view_module_version": "1.2.0",
            "_view_name": "StyleView",
            "description_width": ""
          }
        }
      }
    }
  },
  "cells": [
    {
      "cell_type": "code",
      "source": [
        "pip install gitpython"
      ],
      "metadata": {
        "colab": {
          "base_uri": "https://localhost:8080/"
        },
        "id": "xHqnL2_O8k6e",
        "outputId": "c5319ee0-39e4-4626-bf12-dac3ffb6b7c8"
      },
      "execution_count": 1,
      "outputs": [
        {
          "output_type": "stream",
          "name": "stdout",
          "text": [
            "Collecting gitpython\n",
            "  Downloading GitPython-3.1.43-py3-none-any.whl (207 kB)\n",
            "\u001b[2K     \u001b[90m━━━━━━━━━━━━━━━━━━━━━━━━━━━━━━━━━━━━━━━━\u001b[0m \u001b[32m207.3/207.3 kB\u001b[0m \u001b[31m3.2 MB/s\u001b[0m eta \u001b[36m0:00:00\u001b[0m\n",
            "\u001b[?25hCollecting gitdb<5,>=4.0.1 (from gitpython)\n",
            "  Downloading gitdb-4.0.11-py3-none-any.whl (62 kB)\n",
            "\u001b[2K     \u001b[90m━━━━━━━━━━━━━━━━━━━━━━━━━━━━━━━━━━━━━━━━\u001b[0m \u001b[32m62.7/62.7 kB\u001b[0m \u001b[31m5.5 MB/s\u001b[0m eta \u001b[36m0:00:00\u001b[0m\n",
            "\u001b[?25hCollecting smmap<6,>=3.0.1 (from gitdb<5,>=4.0.1->gitpython)\n",
            "  Downloading smmap-5.0.1-py3-none-any.whl (24 kB)\n",
            "Installing collected packages: smmap, gitdb, gitpython\n",
            "Successfully installed gitdb-4.0.11 gitpython-3.1.43 smmap-5.0.1\n"
          ]
        }
      ]
    },
    {
      "cell_type": "code",
      "source": [
        "from git import Repo\n",
        "\n",
        "repo_url = 'https://github.com/Natalya7oct/multilabel_classification.git'\n",
        "\n",
        "clone_dir = 'mc'\n",
        "\n",
        "Repo.clone_from(repo_url, clone_dir)"
      ],
      "metadata": {
        "colab": {
          "base_uri": "https://localhost:8080/"
        },
        "id": "_keGUjom8UQL",
        "outputId": "0e4aca95-c3f5-431e-ee5a-a086007032b7"
      },
      "execution_count": 21,
      "outputs": [
        {
          "output_type": "execute_result",
          "data": {
            "text/plain": [
              "<git.repo.base.Repo '/content/mc8/.git'>"
            ]
          },
          "metadata": {},
          "execution_count": 21
        }
      ]
    },
    {
      "cell_type": "code",
      "source": [
        "!pip install transformers jsonlines"
      ],
      "metadata": {
        "id": "UoxjRBF6yDJt",
        "colab": {
          "base_uri": "https://localhost:8080/"
        },
        "outputId": "da038f12-7221-4e14-ae0c-7857495d8a44"
      },
      "execution_count": 3,
      "outputs": [
        {
          "output_type": "stream",
          "name": "stdout",
          "text": [
            "Requirement already satisfied: transformers in /usr/local/lib/python3.10/dist-packages (4.40.0)\n",
            "Collecting jsonlines\n",
            "  Downloading jsonlines-4.0.0-py3-none-any.whl (8.7 kB)\n",
            "Requirement already satisfied: filelock in /usr/local/lib/python3.10/dist-packages (from transformers) (3.13.4)\n",
            "Requirement already satisfied: huggingface-hub<1.0,>=0.19.3 in /usr/local/lib/python3.10/dist-packages (from transformers) (0.20.3)\n",
            "Requirement already satisfied: numpy>=1.17 in /usr/local/lib/python3.10/dist-packages (from transformers) (1.25.2)\n",
            "Requirement already satisfied: packaging>=20.0 in /usr/local/lib/python3.10/dist-packages (from transformers) (24.0)\n",
            "Requirement already satisfied: pyyaml>=5.1 in /usr/local/lib/python3.10/dist-packages (from transformers) (6.0.1)\n",
            "Requirement already satisfied: regex!=2019.12.17 in /usr/local/lib/python3.10/dist-packages (from transformers) (2023.12.25)\n",
            "Requirement already satisfied: requests in /usr/local/lib/python3.10/dist-packages (from transformers) (2.31.0)\n",
            "Requirement already satisfied: tokenizers<0.20,>=0.19 in /usr/local/lib/python3.10/dist-packages (from transformers) (0.19.1)\n",
            "Requirement already satisfied: safetensors>=0.4.1 in /usr/local/lib/python3.10/dist-packages (from transformers) (0.4.3)\n",
            "Requirement already satisfied: tqdm>=4.27 in /usr/local/lib/python3.10/dist-packages (from transformers) (4.66.2)\n",
            "Requirement already satisfied: attrs>=19.2.0 in /usr/local/lib/python3.10/dist-packages (from jsonlines) (23.2.0)\n",
            "Requirement already satisfied: fsspec>=2023.5.0 in /usr/local/lib/python3.10/dist-packages (from huggingface-hub<1.0,>=0.19.3->transformers) (2023.6.0)\n",
            "Requirement already satisfied: typing-extensions>=3.7.4.3 in /usr/local/lib/python3.10/dist-packages (from huggingface-hub<1.0,>=0.19.3->transformers) (4.11.0)\n",
            "Requirement already satisfied: charset-normalizer<4,>=2 in /usr/local/lib/python3.10/dist-packages (from requests->transformers) (3.3.2)\n",
            "Requirement already satisfied: idna<4,>=2.5 in /usr/local/lib/python3.10/dist-packages (from requests->transformers) (3.7)\n",
            "Requirement already satisfied: urllib3<3,>=1.21.1 in /usr/local/lib/python3.10/dist-packages (from requests->transformers) (2.0.7)\n",
            "Requirement already satisfied: certifi>=2017.4.17 in /usr/local/lib/python3.10/dist-packages (from requests->transformers) (2024.2.2)\n",
            "Installing collected packages: jsonlines\n",
            "Successfully installed jsonlines-4.0.0\n"
          ]
        }
      ]
    },
    {
      "cell_type": "code",
      "source": [
        "import warnings\n",
        "\n",
        "warnings.filterwarnings('ignore')"
      ],
      "metadata": {
        "id": "3xqF9ctIyEbR"
      },
      "execution_count": 4,
      "outputs": []
    },
    {
      "cell_type": "code",
      "source": [
        "import json\n",
        "import jsonlines\n",
        "import numpy as np\n",
        "import os\n",
        "from PIL import Image\n",
        "Image.MAX_IMAGE_PIXELS = None\n",
        "import functools\n",
        "from collections import Counter\n",
        "from argparse import Namespace\n",
        "from transformers import BertTokenizer, BertModel\n",
        "from tqdm.notebook import tqdm\n",
        "import re\n",
        "import pandas as pd\n",
        "import torch\n",
        "import torchvision\n",
        "import torch.nn as nn\n",
        "import torch.optim as optim\n",
        "import torchvision.transforms as transforms\n",
        "from torch.utils.data import Dataset\n",
        "from torch.utils.data import DataLoader\n",
        "\n",
        "import shutil\n",
        "from sklearn.metrics import f1_score\n",
        "from sklearn.metrics import precision_recall_curve\n",
        "import matplotlib.pyplot as plt\n",
        "import requests"
      ],
      "metadata": {
        "id": "MdaPJ3B8yEh2"
      },
      "execution_count": 5,
      "outputs": []
    },
    {
      "cell_type": "code",
      "source": [
        "import mc.train_functions as tf\n",
        "import mc.get_datasets as gd"
      ],
      "metadata": {
        "id": "KzdfCTE4v_fB"
      },
      "execution_count": 22,
      "outputs": []
    },
    {
      "cell_type": "code",
      "source": [
        "image_encoders_dict = {\n",
        "    'resnet18': 512,\n",
        "    'resnet50': 2048,\n",
        "    'resnet152': 2048\n",
        "}"
      ],
      "metadata": {
        "id": "cMpJ9ZAi2zbC"
      },
      "execution_count": 7,
      "outputs": []
    },
    {
      "cell_type": "code",
      "source": [
        "text_encoders_dict = {\n",
        "    'prajjwal1/bert-mini': 128,\n",
        "    'bert-base-uncased': 768,\n",
        "    'bert-large-uncased': 1024\n",
        "}"
      ],
      "metadata": {
        "id": "efZ1lPiU8UM7"
      },
      "execution_count": 8,
      "outputs": []
    },
    {
      "cell_type": "code",
      "execution_count": 9,
      "metadata": {
        "id": "9xg-1J8Wnf-E"
      },
      "outputs": [],
      "source": [
        "args = Namespace()\n",
        "\n",
        "args.savedir_multimodal = os.path.join('model_save', 'multimodal')\n",
        "args.savedir_text = os.path.join('model_save', 'text')\n",
        "args.savedir_image = os.path.join('model_save', 'image')\n",
        "args.data_path_mmimdb= 'mmimdb'\n",
        "args.data_path_coco= 'coco'\n",
        "\n",
        "args.train_perc = 0.8\n",
        "args.val_perc = 0.1\n",
        "args.max_seq_len = 512\n",
        "args.batch_sz = 4\n",
        "args.n_workers = 2\n",
        "args.img_embed_pool_type = 'avg'\n",
        "args.num_image_embeds = 1\n",
        "args.lr = 1e-5\n",
        "args.lr_patience = 2\n",
        "args.lr_factor = 0.5\n",
        "args.max_epochs = 2\n",
        "args.gradient_accumulation_steps = 16\n",
        "args.patience = 10"
      ]
    },
    {
      "cell_type": "code",
      "source": [
        "os.makedirs(args.savedir_multimodal, exist_ok=True)\n",
        "os.makedirs(args.savedir_text, exist_ok=True)\n",
        "os.makedirs(args.savedir_image, exist_ok=True)\n",
        "os.makedirs(args.data_path_mmimdb, exist_ok=True)\n",
        "os.makedirs(f'{args.data_path_mmimdb}/dataset', exist_ok=True)\n",
        "os.makedirs(args.data_path_coco, exist_ok=True)\n",
        "os.makedirs(f'{args.data_path_coco}/dataset', exist_ok=True)"
      ],
      "metadata": {
        "id": "aaKIWENvzWfc"
      },
      "execution_count": 10,
      "outputs": []
    },
    {
      "cell_type": "code",
      "source": [
        "# for 4500 samples\n",
        "captions_url = 'https://drive.usercontent.google.com/u/0/uc?id=1x_Tr6C52Nt3Oq7ZBYsBnivwUrq-PhzaD&export=download'\n",
        "instances_url = 'https://drive.usercontent.google.com/u/0/uc?id=1_tW8EpxC1ffyjWy3hruZGJZXUlcxE-Me&export=download'\n",
        "\n",
        "# for all samples\n",
        "'''\n",
        "captions_url = 'https://drive.usercontent.google.com/u/0/uc?id=1onVMlzXqYmgmf-xp6jcu1zm5RVBR6UKp&export=download'\n",
        "instances_url = 'https://drive.usercontent.google.com/u/0/uc?id=1p-AiOlPMIiE0mg7u6lLMjtpQTq1PWdtc&export=download'\n",
        "'''\n",
        "\n",
        "response = requests.get(captions_url)\n",
        "captions = response.json()\n",
        "\n",
        "response = requests.get(instances_url)\n",
        "instances = response.json()\n",
        "\n",
        "gd.write_formated_data_coco(args, captions, instances)"
      ],
      "metadata": {
        "id": "wr5oK1PLt_Wl",
        "colab": {
          "base_uri": "https://localhost:8080/",
          "height": 49,
          "referenced_widgets": [
            "005e7b52f793438595c6f18b030d7840",
            "7b5064b5933e42ac8a0f856ef331d37a",
            "a47c224d53534777855b89dca699cf91",
            "27bf79a576684976b16bc86573877148",
            "f72bb2ea2e9d40ae91d37f205e73e546",
            "d4e98cc724454c06b8e1f3249d17d679",
            "342de8078b9442a794bb5e43c994fd78",
            "2417e876b7b745f3aaed837a6f528811",
            "3d10976a58bd43d4b0d0845efcce1034",
            "3d8acb4b00564226b3deb7ece65227b8",
            "3a520538a7324b5dac448fc31f519436"
          ]
        },
        "outputId": "4eacab65-539c-4fbf-9b40-0b8dcde47d37"
      },
      "execution_count": 11,
      "outputs": [
        {
          "output_type": "display_data",
          "data": {
            "text/plain": [
              "  0%|          | 0/100 [00:00<?, ?it/s]"
            ],
            "application/vnd.jupyter.widget-view+json": {
              "version_major": 2,
              "version_minor": 0,
              "model_id": "005e7b52f793438595c6f18b030d7840"
            }
          },
          "metadata": {}
        }
      ]
    },
    {
      "cell_type": "code",
      "source": [
        "# for 3000 samples\n",
        "dataset_url = 'https://giohmg.am.files.1drv.com/y4mVMnd-_Cq2OqbN2YyYKBclz_PTvLBhmP1WICms-Dpmtj_gTCln0tbh-28SxECL1LE34uNcBRo2wu_7bLHaaBBqN1P990Nlw47RH-Loq8S2Sz8XpmPTWTuQfDJ0Gj5ZNUeDkq_cRLqTqHQCx51V-VHKJ1jHz1gDBFCCsB0xMgAPdRFJgRDR6CnjAyJjRighF7l_FnbcgHjAypnxwfsJomGYA'\n",
        "\n",
        "# for all samples\n",
        "'''\n",
        "dataset_url = 'https://archive.org/download/mmimdb/mmimdb.tar.gz'\n",
        "'''\n",
        "\n",
        "response = requests.get(dataset_url)\n",
        "if response.status_code == 200:\n",
        "    with open('mmimdb.tar.gz', 'wb') as file:\n",
        "        file.write(response.content)\n",
        "\n",
        "!tar -zxf 'mmimdb.tar.gz'\n",
        "\n",
        "gd.write_formated_data_mmimdb(args)"
      ],
      "metadata": {
        "id": "7c302RYNuz9X"
      },
      "execution_count": 12,
      "outputs": []
    },
    {
      "cell_type": "code",
      "source": [
        "'''\n",
        "\n",
        "Parameters:\n",
        "data - mmimdb/coc\n",
        "bert type - 'bert-base-uncased' / 'prajjwal1/bert-mini' / 'bert-base-uncased'\n",
        "resnet_type - 'resnet18' / 'resnet50' / 'resnet152'\n",
        "size of additional linear layers*\n",
        "count of additional linear layers*\n",
        "\n",
        "* constructor of classification model:\n",
        "self.clf.append(nn.Linear(last_size, args.linear_layer_dim))\n",
        "for i in range(args.linear_layer_count):\n",
        "  self.clf.append(nn.Linear(args.linear_layer_dim, args.linear_layer_dim))\n",
        "self.clf.append(nn.Linear(args.linear_layer_dim, args.n_classes))\n",
        "\n",
        "'''"
      ],
      "metadata": {
        "id": "eLZasjaogzRg",
        "outputId": "ed76c3c3-13d1-4384-d856-7b34effaf2fd",
        "colab": {
          "base_uri": "https://localhost:8080/",
          "height": 53
        }
      },
      "execution_count": 26,
      "outputs": [
        {
          "output_type": "execute_result",
          "data": {
            "text/plain": [
              "\"\\nParameters:\\ndata - mmimdb/coc\\nbert type - 'bert-base-uncased' / 'prajjwal1/bert-mini' / 'bert-base-uncased'\\nresnet_type - 'resnet18' / 'resnet50' / 'resnet152'\\nsize of additional linear layers*\\ncount of additional linear layers*\\n\\n* constructor:\\n\\n\""
            ],
            "application/vnd.google.colaboratory.intrinsic+json": {
              "type": "string"
            }
          },
          "metadata": {},
          "execution_count": 26
        }
      ]
    },
    {
      "cell_type": "code",
      "source": [
        "args.bert_type = 'bert-base-uncased'\n",
        "args.text_hidden_sz = text_encoders_dict[args.bert_type]\n",
        "\n",
        "args.resnet_type = 'resnet18'\n",
        "args.img_hidden_sz = image_encoders_dict[args.resnet_type]\n",
        "\n",
        "args.linear_layer_dim = 10\n",
        "args.linear_layer_count = 0\n",
        "\n",
        "model_type, params_count, test_f1 = tf.main(args, args.data_path_mmimdb)"
      ],
      "metadata": {
        "id": "gbGX7mgTuEyL"
      },
      "execution_count": null,
      "outputs": []
    },
    {
      "cell_type": "code",
      "source": [
        "args.bert_type = 'bert-base-uncased'\n",
        "args.text_hidden_sz = text_encoders_dict[args.bert_type]\n",
        "\n",
        "args.resnet_type = 'resnet18'\n",
        "args.img_hidden_sz = image_encoders_dict[args.resnet_type]\n",
        "\n",
        "args.linear_layer_dim = 10\n",
        "args.linear_layer_count = 0\n",
        "\n",
        "model_type, params_count, test_f1 = tf.main(args, args.data_path_coco)"
      ],
      "metadata": {
        "id": "RySISjktgU_b"
      },
      "execution_count": null,
      "outputs": []
    }
  ]
}